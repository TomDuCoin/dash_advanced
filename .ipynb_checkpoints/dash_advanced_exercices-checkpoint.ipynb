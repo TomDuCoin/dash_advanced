{
 "cells": [
  {
   "cell_type": "markdown",
   "metadata": {},
   "source": [
    "# Dashboard Crypto avec Dash"
   ]
  },
  {
   "cell_type": "markdown",
   "metadata": {},
   "source": [
    "Bienvenue dans ce nouveau worksop Dash organisé par Tom FULLER et Anselin BARADAT-GARGOMINY. Le but de ce workshop est de donner aux plus novices en python quelque bases sur la manipulation de matrices en python avec la librairie Pandas et sur la création de dashboards avec la librairie Dash."
   ]
  },
  {
   "cell_type": "markdown",
   "metadata": {},
   "source": [
    "Pour les amateurs de cryptos, ce workshop vous permettra de confirmer vos croyances sur certaines tendances entre certaines crypto monnaies, dans ce workshop nous étudirons particulièrement la tendance du cours de l'Etherum avec celle du Bitcoin."
   ]
  },
  {
   "cell_type": "markdown",
   "metadata": {},
   "source": [
    "## Instructions"
   ]
  },
  {
   "cell_type": "markdown",
   "metadata": {},
   "source": [
    "<ul>\n",
    "    <li> Vous utiliserez Python3 </li>\n",
    "    <li> Pour la manipulation de matrice vous utiliserez exclusivement Pandas </li>\n",
    "    <li> Pour plotter vos graphes vous utiliserez exclusivement Dash </li>\n",
    "<ul>"
   ]
  },
  {
   "cell_type": "markdown",
   "metadata": {},
   "source": [
    "## A la fin de ce workshop, vous saurez:"
   ]
  },
  {
   "cell_type": "markdown",
   "metadata": {},
   "source": [
    "<ul>\n",
    "    <li> Faire un dashboard avec Dash </li>\n",
    "    <li> Une meilleure compréhension de l'incroyable éfficacitée des calcules matriciels </li>\n",
    "    <li> Un aperçu des cours des crypto monnaies et des tendances de ces dernières </li>\n",
    "<ul>\n",
    "    "
   ]
  },
  {
   "cell_type": "markdown",
   "metadata": {},
   "source": [
    "### Task 1\n",
    "Vous devez créer une application contenant 3 pages: https://dash.plotly.com/urls.\n",
    "Pour les deux premières pages:\n",
    "<ul>\n",
    "\t<li> Un component dcc.Graph </li>\n",
    "\t<li> Un component dcc.DropDown </li>\n",
    "</ul>\n",
    "\n",
    "Le dcc.DropDown contiendra les noms des colonnes de votre dataframe,\n",
    "et lorsque un utilisateur selectionne une colonne, le graph doit plotter cette derniere.\n",
    "Et pour la troisème page vous aurez deux dcc.DropDown (1 pour l'ether et l'autre pour le bitcoin) et 1 Graph.\n",
    "La première page sera celle du bitcoin, la deuxieme sera celle de l'ether, et la dernière sera le mix des deux.\n",
    "\n",
    "Pour récupérer le dataframe du bitcoin:\n",
    "<br>\n",
    "<code>data = yf.download(tickers='BTC-USD', period = '60d', interval = '15m')</code>\n",
    "<br>\n",
    "Pour récupérer le dataframe de l'ether:\n",
    "<br>\n",
    "<code>data = yf.download(tickers='ETH-USD', period = '60d', interval = '15m')</code>"
   ]
  },
  {
   "cell_type": "markdown",
   "metadata": {},
   "source": [
    "### Task 2\n",
    "Maintenant vous devez faire en sorte que sur la troisième page, lorsque un utilisateur selectionne une valeur dans les deux dropdown, que les deux courbes qui s'affichent normalement dans le graph, aient leur propre axe, c'est à dire que la courbe 1 n'est pas le même axe y que la courbe 2."
   ]
  },
  {
   "cell_type": "markdown",
   "metadata": {},
   "source": [
    "### Task 3\n",
    "Rajouter maintenant sur la troisième page, un histogramme des volumes de l'ether et du bictoin, encore une fois les deux courbes doivent avoir leur propre axe y."
   ]
  },
  {
   "cell_type": "markdown",
   "metadata": {},
   "source": [
    "### Task 4\n",
    "Vous allez maintenant rajouter un component RangeSlider: https://dash.plotly.com/dash-core-components/rangeslider.\n",
    "Le but est de pouvoir séléctioner un interval de temps pour le graph et l'histogram."
   ]
  }
 ],
 "metadata": {
  "kernelspec": {
   "display_name": "Python 3 (ipykernel)",
   "language": "python",
   "name": "python3"
  },
  "language_info": {
   "codemirror_mode": {
    "name": "ipython",
    "version": 3
   },
   "file_extension": ".py",
   "mimetype": "text/x-python",
   "name": "python",
   "nbconvert_exporter": "python",
   "pygments_lexer": "ipython3",
   "version": "3.8.10"
  }
 },
 "nbformat": 4,
 "nbformat_minor": 2
}
